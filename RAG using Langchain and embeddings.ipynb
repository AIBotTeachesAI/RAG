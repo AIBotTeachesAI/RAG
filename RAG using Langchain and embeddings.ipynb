{
 "cells": [
  {
   "cell_type": "code",
   "execution_count": null,
   "id": "85b96aea",
   "metadata": {},
   "outputs": [],
   "source": []
  },
  {
   "cell_type": "code",
   "execution_count": null,
   "id": "a23837d0",
   "metadata": {},
   "outputs": [],
   "source": []
  },
  {
   "cell_type": "code",
   "execution_count": null,
   "id": "f7806f0a",
   "metadata": {},
   "outputs": [],
   "source": []
  },
  {
   "cell_type": "markdown",
   "id": "b2ef3e94",
   "metadata": {},
   "source": [
    "# Install Langchain"
   ]
  },
  {
   "cell_type": "markdown",
   "id": "196908b8",
   "metadata": {},
   "source": [
    "Langchain is a framework which makes working with LLM easier. It provides different apis to integrate with documents, vector stores, embedding models."
   ]
  },
  {
   "cell_type": "code",
   "execution_count": 1,
   "id": "b0e468a8",
   "metadata": {},
   "outputs": [],
   "source": [
    "#!pip install openai==1.7.1"
   ]
  },
  {
   "cell_type": "code",
   "execution_count": 2,
   "id": "7bf57d41",
   "metadata": {},
   "outputs": [],
   "source": [
    "#!pip install langchain==0.1.0"
   ]
  },
  {
   "cell_type": "code",
   "execution_count": 3,
   "id": "4ddf622f",
   "metadata": {},
   "outputs": [],
   "source": [
    "#!pip install langchain_openai"
   ]
  },
  {
   "cell_type": "code",
   "execution_count": 4,
   "id": "23b00796",
   "metadata": {},
   "outputs": [],
   "source": [
    "import os\n",
    "import openai\n",
    "\n",
    "openai.api_key = os.getenv(\"open_ai_secret_key\")"
   ]
  },
  {
   "cell_type": "markdown",
   "id": "59620d12",
   "metadata": {},
   "source": [
    "# Basic LLM prompting technique"
   ]
  },
  {
   "cell_type": "code",
   "execution_count": 5,
   "id": "b5a65e4e",
   "metadata": {},
   "outputs": [
    {
     "data": {
      "text/plain": [
       "AIMessage(content='In the TV series \"Sacred Games,\" Ramakant Jadhav is a police constable and a close associate of Inspector Sartaj Singh. He is portrayed by the actor Rajshri Deshpande. Ramakant Jadhav plays a significant role in assisting Sartaj in his investigation throughout the series.')"
      ]
     },
     "execution_count": 5,
     "metadata": {},
     "output_type": "execute_result"
    }
   ],
   "source": [
    "from langchain_openai import ChatOpenAI\n",
    "from langchain_core.messages import HumanMessage, SystemMessage\n",
    "\n",
    "chat = ChatOpenAI(openai_api_key=os.getenv(\"open_ai_secret_key\"))\n",
    "\n",
    "\n",
    "query = \"\"\"who is ramakant jadhav in sacred games and which actor portrays ramakant jadhav in sacred games\"\"\"\n",
    "\n",
    "messages = [\n",
    "    SystemMessage(content=\"You're a helpful assistant\"),\n",
    "    HumanMessage(content=query),\n",
    "]\n",
    "chat.invoke(messages)"
   ]
  },
  {
   "cell_type": "markdown",
   "id": "e2a73e6e",
   "metadata": {},
   "source": [
    "# Loading knowledgebase Documents"
   ]
  },
  {
   "cell_type": "code",
   "execution_count": 6,
   "id": "16462b19",
   "metadata": {},
   "outputs": [
    {
     "data": {
      "text/plain": [
       "[Document(page_content='Squid Game (Korean: 오징어 게임) is a South Korean television series created by Hwang Dong-hyuk for Netflix. Its cast includes Lee Jung-jae, Park Hae-soo, Wi Ha-joon, HoYeon Jung, O Yeong-su, Heo Sung-tae, Anupam Tripathi and Kim Joo-ryoung.\\n\\nThe series revolves around a secret contest where 456 players, all of whom are in deep financial hardship, risk their lives to play a series of deadly children\\'s games for the chance to win a ₩45.6 billion prize. The series\\' title draws from a similarly named Korean children\\'s game. Hwang conceived the idea based on his own economic struggles, as well as the class disparity in South Korea and capitalism.[4][5] Though he wrote the story in 2009, Hwang could not find a production company to fund the idea until Netflix took an interest around 2019 as part of a drive to expand their foreign programming offerings.\\n\\nSquid Game was released worldwide on September 17, 2021, to critical acclaim and international attention. It became Netflix\\'s most-watched series and the most-watched program in 94 countries, attracting more than 142 million member households and 1.65 billion viewing hours in its first four weeks, surpassing Bridgerton as the service\\'s most-watched show. It has received numerous accolades, including the Golden Globe Award for Best Supporting Actor – Series, Miniseries or Television Film for O Yeong-su, and the Screen Actors Guild Award for Outstanding Performance by a Male Actor in a Drama Series and Outstanding Performance by a Female Actor in a Drama Series for Lee Jung-jae and HoYeon Jung, respectively; all three were also the first Korean actors to win in those categories. The first season received 14 Primetime Emmy Award nominations, including for Outstanding Drama Series, making it the first non-English-language work to be nominated in this category; Lee won the Outstanding Lead Actor in a Drama series, the first time an Asian actor won the award for a non-English part.\\n\\nSacred Games is an Indian neo-noir crime thriller streaming television series based on Vikram Chandra\\'s 2006 novel of the same name. India\\'s first Netflix original series, it was produced and directed by Vikramaditya Motwane and Anurag Kashyap as Phantom Films. The novel was adapted by Varun Grover, Smita Singh, and Vasant Nath. Kelly Luegenbiehl, Erik Barmack and Motwane were the series\\' executive producers.\\n\\nSartaj Singh (Saif Ali Khan) is a troubled police officer in Mumbai who receives a phone call from gangster Ganesh Gaitonde (Nawazuddin Siddiqui), who tells him to save the city within 25 days; the series chronicles the events which follow. Other cast members include Radhika Apte, Girish Kulkarni, Neeraj Kabi, Jeetendra Joshi, Rajshri Deshpande, Karan Wahi, Sukhmani Sadana, Aamir Bashir, Jatin Sarna, Elnaaz Norouzi, Amey Wagh, Kubbra Sait, Surveen Chawla, Kalki Koechlin, Ranvir Shorey and Amruta Subhash.\\n\\n\\nThe first season of Sacred Games consisting of eight episodes was released on Netflix on 5 July 2018 in 191 countries. The series is subtitled in over 20 languages. It received mostly positive reviews from critics, with particular praise for its performances and writing. The first season is the only Indian series to appear on The New York Times\\' \"The 30 Best International TV Shows of the Decade\" list. The second season premiered on 15 August 2019, met with a mixed response making the producers reconsider a third season. Siddiqui has said that there will not be a third season; the show had an open-ended climax.\\n\\nThere are 4 main actors in sacred games.\\n\\nThere is no ramakant jadhav in sacred games. It is a fake person mentioned in the show. There is no actor who playes ramakant jadhav in the show. Ramakant jadhav is not a cop. There is no actor who acted as him in the show. There is misinformation that someone might have played the role of Ramakant jadhav , but its not true. Sacred Games is a popular Indian TV series that aired on Netflix, but it does not include a actor who plays the character Ramakant Jadhav. \\n\\nsacred games was a tv show aired on netflix.\\n\\n', metadata={'source': 'sacred_games_script.txt'})]"
      ]
     },
     "execution_count": 6,
     "metadata": {},
     "output_type": "execute_result"
    }
   ],
   "source": [
    "from langchain_community.document_loaders import TextLoader\n",
    "\n",
    "text_loader = TextLoader(\"sacred_games_script.txt\")\n",
    "knowedge_base_documents = text_loader.load()\n",
    "knowedge_base_documents\n"
   ]
  },
  {
   "cell_type": "code",
   "execution_count": 7,
   "id": "21a3c164",
   "metadata": {},
   "outputs": [
    {
     "data": {
      "text/plain": [
       "[Document(page_content=\"Squid Game (Korean: 오징어 게임) is a South Korean television series created by Hwang Dong-hyuk for Netflix. Its cast includes Lee Jung-jae, Park Hae-soo, Wi Ha-joon, HoYeon Jung, O Yeong-su, Heo Sung-tae, Anupam Tripathi and Kim Joo-ryoung.\\n\\nThe series revolves around a secret contest where 456 players, all of whom are in deep financial hardship, risk their lives to play a series of deadly children's games for the chance to win a ₩45.6 billion prize. The series' title draws from a similarly named Korean children's game. Hwang conceived the idea based on his own economic struggles, as well as the class disparity in South Korea and capitalism.[4][5] Though he wrote the story in 2009, Hwang could not find a production company to fund the idea until Netflix took an interest around 2019 as part of a drive to expand their foreign programming offerings.\", metadata={'source': 'sacred_games_script.txt'}),\n",
       " Document(page_content=\"Squid Game was released worldwide on September 17, 2021, to critical acclaim and international attention. It became Netflix's most-watched series and the most-watched program in 94 countries, attracting more than 142 million member households and 1.65 billion viewing hours in its first four weeks, surpassing Bridgerton as the service's most-watched show. It has received numerous accolades, including the Golden Globe Award for Best Supporting Actor – Series, Miniseries or Television Film for O Yeong-su, and the Screen Actors Guild Award for Outstanding Performance by a Male Actor in a Drama Series and Outstanding Performance by a Female Actor in a Drama Series for Lee Jung-jae and HoYeon Jung, respectively; all three were also the first Korean actors to win in those categories. The first season received 14 Primetime Emmy Award nominations, including for Outstanding Drama Series, making it the first non-English-language work to be nominated in this category; Lee won the Outstanding Lead Actor in a Drama series, the first time an Asian actor won the award for a non-English part.\", metadata={'source': 'sacred_games_script.txt'}),\n",
       " Document(page_content=\"Sacred Games is an Indian neo-noir crime thriller streaming television series based on Vikram Chandra's 2006 novel of the same name. India's first Netflix original series, it was produced and directed by Vikramaditya Motwane and Anurag Kashyap as Phantom Films. The novel was adapted by Varun Grover, Smita Singh, and Vasant Nath. Kelly Luegenbiehl, Erik Barmack and Motwane were the series' executive producers.\\n\\nSartaj Singh (Saif Ali Khan) is a troubled police officer in Mumbai who receives a phone call from gangster Ganesh Gaitonde (Nawazuddin Siddiqui), who tells him to save the city within 25 days; the series chronicles the events which follow. Other cast members include Radhika Apte, Girish Kulkarni, Neeraj Kabi, Jeetendra Joshi, Rajshri Deshpande, Karan Wahi, Sukhmani Sadana, Aamir Bashir, Jatin Sarna, Elnaaz Norouzi, Amey Wagh, Kubbra Sait, Surveen Chawla, Kalki Koechlin, Ranvir Shorey and Amruta Subhash.\", metadata={'source': 'sacred_games_script.txt'}),\n",
       " Document(page_content='The first season of Sacred Games consisting of eight episodes was released on Netflix on 5 July 2018 in 191 countries. The series is subtitled in over 20 languages. It received mostly positive reviews from critics, with particular praise for its performances and writing. The first season is the only Indian series to appear on The New York Times\\' \"The 30 Best International TV Shows of the Decade\" list. The second season premiered on 15 August 2019, met with a mixed response making the producers reconsider a third season. Siddiqui has said that there will not be a third season; the show had an open-ended climax.\\n\\nThere are 4 main actors in sacred games.', metadata={'source': 'sacred_games_script.txt'}),\n",
       " Document(page_content='There are 4 main actors in sacred games.\\n\\nThere is no ramakant jadhav in sacred games. It is a fake person mentioned in the show. There is no actor who playes ramakant jadhav in the show. Ramakant jadhav is not a cop. There is no actor who acted as him in the show. There is misinformation that someone might have played the role of Ramakant jadhav , but its not true. Sacred Games is a popular Indian TV series that aired on Netflix, but it does not include a actor who plays the character Ramakant Jadhav. \\n\\nsacred games was a tv show aired on netflix.', metadata={'source': 'sacred_games_script.txt'})]"
      ]
     },
     "execution_count": 7,
     "metadata": {},
     "output_type": "execute_result"
    }
   ],
   "source": [
    "\n",
    "from langchain.text_splitter import CharacterTextSplitter\n",
    "\n",
    "\n",
    "text_splitter_definition = CharacterTextSplitter(chunk_size=1100)\n",
    "\n",
    "documents_after_splitting = text_splitter_definition.split_documents(knowedge_base_documents)\n",
    "documents_after_splitting"
   ]
  },
  {
   "cell_type": "code",
   "execution_count": 17,
   "id": "3d543a50",
   "metadata": {},
   "outputs": [
    {
     "data": {
      "text/plain": [
       "Document(page_content=\"Squid Game (Korean: 오징어 게임) is a South Korean television series created by Hwang Dong-hyuk for Netflix. Its cast includes Lee Jung-jae, Park Hae-soo, Wi Ha-joon, HoYeon Jung, O Yeong-su, Heo Sung-tae, Anupam Tripathi and Kim Joo-ryoung.\\n\\nThe series revolves around a secret contest where 456 players, all of whom are in deep financial hardship, risk their lives to play a series of deadly children's games for the chance to win a ₩45.6 billion prize. The series' title draws from a similarly named Korean children's game. Hwang conceived the idea based on his own economic struggles, as well as the class disparity in South Korea and capitalism.[4][5] Though he wrote the story in 2009, Hwang could not find a production company to fund the idea until Netflix took an interest around 2019 as part of a drive to expand their foreign programming offerings.\", metadata={'source': 'sacred_games_script.txt'})"
      ]
     },
     "execution_count": 17,
     "metadata": {},
     "output_type": "execute_result"
    }
   ],
   "source": [
    "documents_after_splitting[0]"
   ]
  },
  {
   "cell_type": "code",
   "execution_count": 24,
   "id": "aa8f903b",
   "metadata": {},
   "outputs": [
    {
     "data": {
      "text/plain": [
       "1092"
      ]
     },
     "execution_count": 24,
     "metadata": {},
     "output_type": "execute_result"
    }
   ],
   "source": [
    "len(documents_after_splitting[1].page_content)"
   ]
  },
  {
   "cell_type": "markdown",
   "id": "287aa82d",
   "metadata": {},
   "source": [
    "# Embed Documents and store in Vector Store"
   ]
  },
  {
   "cell_type": "code",
   "execution_count": 8,
   "id": "d3e522f3",
   "metadata": {},
   "outputs": [],
   "source": [
    "from langchain_community.vectorstores import FAISS\n",
    "from langchain_openai import OpenAIEmbeddings\n",
    "\n",
    "openai_embeddings = OpenAIEmbeddings(openai_api_key=os.getenv(\"open_ai_secret_key\"))\n",
    "vector_db = FAISS.from_documents(documents_after_splitting, openai_embeddings)\n"
   ]
  },
  {
   "cell_type": "markdown",
   "id": "ea5843a2",
   "metadata": {},
   "source": [
    "# Embed user query"
   ]
  },
  {
   "cell_type": "code",
   "execution_count": 9,
   "id": "353ee344",
   "metadata": {},
   "outputs": [],
   "source": [
    "query_embedding_vector = openai_embeddings.embed_query(query)"
   ]
  },
  {
   "cell_type": "markdown",
   "id": "3bfe60b6",
   "metadata": {},
   "source": [
    "# Retreive similar content from Vector db"
   ]
  },
  {
   "cell_type": "code",
   "execution_count": 10,
   "id": "74b550c1",
   "metadata": {},
   "outputs": [
    {
     "data": {
      "text/plain": [
       "'There are 4 main actors in sacred games.\\n\\nThere is no ramakant jadhav in sacred games. It is a fake person mentioned in the show. There is no actor who playes ramakant jadhav in the show. Ramakant jadhav is not a cop. There is no actor who acted as him in the show. There is misinformation that someone might have played the role of Ramakant jadhav , but its not true. Sacred Games is a popular Indian TV series that aired on Netflix, but it does not include a actor who plays the character Ramakant Jadhav. \\n\\nsacred games was a tv show aired on netflix.'"
      ]
     },
     "execution_count": 10,
     "metadata": {},
     "output_type": "execute_result"
    }
   ],
   "source": [
    "\n",
    "relevant_documents = vector_db.similarity_search_by_vector(query_embedding_vector)\n",
    "relevant_document_text = relevant_documents[0].page_content\n",
    "relevant_document_text"
   ]
  },
  {
   "cell_type": "markdown",
   "id": "a7f4d929",
   "metadata": {},
   "source": [
    "# Look at most relevant Documents based on index"
   ]
  },
  {
   "cell_type": "code",
   "execution_count": 11,
   "id": "e79be77e",
   "metadata": {},
   "outputs": [
    {
     "data": {
      "text/plain": [
       "[Document(page_content='There are 4 main actors in sacred games.\\n\\nThere is no ramakant jadhav in sacred games. It is a fake person mentioned in the show. There is no actor who playes ramakant jadhav in the show. Ramakant jadhav is not a cop. There is no actor who acted as him in the show. There is misinformation that someone might have played the role of Ramakant jadhav , but its not true. Sacred Games is a popular Indian TV series that aired on Netflix, but it does not include a actor who plays the character Ramakant Jadhav. \\n\\nsacred games was a tv show aired on netflix.', metadata={'source': 'sacred_games_script.txt'}),\n",
       " Document(page_content=\"Sacred Games is an Indian neo-noir crime thriller streaming television series based on Vikram Chandra's 2006 novel of the same name. India's first Netflix original series, it was produced and directed by Vikramaditya Motwane and Anurag Kashyap as Phantom Films. The novel was adapted by Varun Grover, Smita Singh, and Vasant Nath. Kelly Luegenbiehl, Erik Barmack and Motwane were the series' executive producers.\\n\\nSartaj Singh (Saif Ali Khan) is a troubled police officer in Mumbai who receives a phone call from gangster Ganesh Gaitonde (Nawazuddin Siddiqui), who tells him to save the city within 25 days; the series chronicles the events which follow. Other cast members include Radhika Apte, Girish Kulkarni, Neeraj Kabi, Jeetendra Joshi, Rajshri Deshpande, Karan Wahi, Sukhmani Sadana, Aamir Bashir, Jatin Sarna, Elnaaz Norouzi, Amey Wagh, Kubbra Sait, Surveen Chawla, Kalki Koechlin, Ranvir Shorey and Amruta Subhash.\", metadata={'source': 'sacred_games_script.txt'})]"
      ]
     },
     "execution_count": 11,
     "metadata": {},
     "output_type": "execute_result"
    }
   ],
   "source": [
    "relevant_documents[0:2]"
   ]
  },
  {
   "cell_type": "markdown",
   "id": "510205a1",
   "metadata": {},
   "source": [
    "# Look at least relevant Documents based on index"
   ]
  },
  {
   "cell_type": "code",
   "execution_count": 12,
   "id": "551c1e5f",
   "metadata": {},
   "outputs": [
    {
     "data": {
      "text/plain": [
       "Document(page_content=\"Squid Game (Korean: 오징어 게임) is a South Korean television series created by Hwang Dong-hyuk for Netflix. Its cast includes Lee Jung-jae, Park Hae-soo, Wi Ha-joon, HoYeon Jung, O Yeong-su, Heo Sung-tae, Anupam Tripathi and Kim Joo-ryoung.\\n\\nThe series revolves around a secret contest where 456 players, all of whom are in deep financial hardship, risk their lives to play a series of deadly children's games for the chance to win a ₩45.6 billion prize. The series' title draws from a similarly named Korean children's game. Hwang conceived the idea based on his own economic struggles, as well as the class disparity in South Korea and capitalism.[4][5] Though he wrote the story in 2009, Hwang could not find a production company to fund the idea until Netflix took an interest around 2019 as part of a drive to expand their foreign programming offerings.\", metadata={'source': 'sacred_games_script.txt'})"
      ]
     },
     "execution_count": 12,
     "metadata": {},
     "output_type": "execute_result"
    }
   ],
   "source": [
    "relevant_documents[-1]"
   ]
  },
  {
   "cell_type": "markdown",
   "id": "e74d36e8",
   "metadata": {},
   "source": [
    "# Query Augmentation "
   ]
  },
  {
   "cell_type": "code",
   "execution_count": 13,
   "id": "ac34b64f",
   "metadata": {},
   "outputs": [
    {
     "data": {
      "text/plain": [
       "AIMessage(content='I apologize for the confusion. In the TV show Sacred Games, Ramakant Jadhav is a fictional character who is a police officer. He is portrayed by actor Jitendra Joshi.')"
      ]
     },
     "execution_count": 13,
     "metadata": {},
     "output_type": "execute_result"
    }
   ],
   "source": [
    "#trial 1\n",
    "augmented_query = query + relevant_document_text\n",
    "augmented_query\n",
    "messages = [\n",
    "    SystemMessage(content=\"You're a helpful assistant. \"),\n",
    "    HumanMessage(content=augmented_query),\n",
    "]\n",
    "chat.invoke(messages)\n"
   ]
  },
  {
   "cell_type": "code",
   "execution_count": 14,
   "id": "9e1f2eeb",
   "metadata": {},
   "outputs": [
    {
     "data": {
      "text/plain": [
       "AIMessage(content=\"I'm sorry, but I couldn't find any information on a character named Ramakant Jadhav in the TV show Sacred Games. It seems that the information you have might be incorrect. Sacred Games is a popular Indian TV series that aired on Netflix, but it does not include a character named Ramakant Jadhav. The show features 4 main actors, but none of them portray a character with that name.\")"
      ]
     },
     "execution_count": 14,
     "metadata": {},
     "output_type": "execute_result"
    }
   ],
   "source": [
    "#better augmentation\n",
    "augmented_query = query + \"\\nalso use below text as reference before answering\\n\" + relevant_document_text\n",
    "augmented_query\n",
    "messages = [\n",
    "    SystemMessage(content=\"You're a helpful assistant. \"),\n",
    "    HumanMessage(content=augmented_query),\n",
    "]\n",
    "chat.invoke(messages)"
   ]
  },
  {
   "cell_type": "code",
   "execution_count": 15,
   "id": "a4692356",
   "metadata": {},
   "outputs": [],
   "source": [
    "#Just for reverse sanity check, look for information not directly in the knowledgebase"
   ]
  },
  {
   "cell_type": "code",
   "execution_count": 16,
   "id": "c908eea3",
   "metadata": {},
   "outputs": [
    {
     "data": {
      "text/plain": [
       "AIMessage(content='In the TV show Sacred Games, the character of Khanna Guruji is played by actor Pankaj Tripathi.')"
      ]
     },
     "execution_count": 16,
     "metadata": {},
     "output_type": "execute_result"
    }
   ],
   "source": [
    "new_query = \"who plays the character of Khanna Guruji\"\n",
    "augmented_query = new_query + \"\\nalso use below text as reference before answering\\n\" + relevant_document_text\n",
    "augmented_query\n",
    "messages = [\n",
    "    SystemMessage(content=\"You're a helpful assistant. \"),\n",
    "    HumanMessage(content=augmented_query),\n",
    "]\n",
    "chat.invoke(messages)"
   ]
  }
 ],
 "metadata": {
  "kernelspec": {
   "display_name": "Python 3 (ipykernel)",
   "language": "python",
   "name": "python3"
  },
  "language_info": {
   "codemirror_mode": {
    "name": "ipython",
    "version": 3
   },
   "file_extension": ".py",
   "mimetype": "text/x-python",
   "name": "python",
   "nbconvert_exporter": "python",
   "pygments_lexer": "ipython3",
   "version": "3.9.10"
  }
 },
 "nbformat": 4,
 "nbformat_minor": 5
}
